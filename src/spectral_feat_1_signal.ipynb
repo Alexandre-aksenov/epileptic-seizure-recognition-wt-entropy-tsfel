{
 "cells": [
  {
   "cell_type": "markdown",
   "metadata": {},
   "source": [
    "Test of the functions for extracting spectral features on real data\n",
    "(PSD functions in module 'extract_spectral_features.py').\n",
    "\n",
    "This example signal is also used in the script 'classification_wavelets_fourier'."
   ]
  },
  {
   "cell_type": "code",
   "execution_count": 1,
   "metadata": {},
   "outputs": [],
   "source": [
    "\n",
    "import pandas as pd\n",
    "import numpy as np\n",
    "from scipy.signal import find_peaks\n",
    "\n",
    "from extract_spectral_features import welch64, PSD_welch64, get_first_n, get_first_n_peaks\n",
    "\n",
    "import matplotlib.pyplot as plt\n",
    "%matplotlib inline"
   ]
  },
  {
   "cell_type": "code",
   "execution_count": 2,
   "metadata": {},
   "outputs": [
    {
     "name": "stdout",
     "output_type": "stream",
     "text": [
      "(11500, 180)\n"
     ]
    }
   ],
   "source": [
    "file_path  = '../dat/Epileptic_Seizure_Recognition.csv'\n",
    "data = pd.read_csv(file_path)\n",
    "print(data.shape)  # (11500, 180)\n",
    "del file_path\n",
    "\n",
    "# remove the 1st column (Unnamed)\n",
    "data.drop(columns=[list(data)[0]], inplace=True)"
   ]
  },
  {
   "cell_type": "code",
   "execution_count": 3,
   "metadata": {},
   "outputs": [
    {
     "name": "stdout",
     "output_type": "stream",
     "text": [
      "178\n"
     ]
    }
   ],
   "source": [
    "target = list(data)[-1]  # \"y\"\n",
    "\n",
    "features = list(data)[0:-1]\n",
    "print(len(features))  # 178"
   ]
  },
  {
   "cell_type": "code",
   "execution_count": 4,
   "metadata": {},
   "outputs": [
    {
     "name": "stdout",
     "output_type": "stream",
     "text": [
      "<class 'pandas.core.series.Series'>\n",
      "(178,)\n"
     ]
    },
    {
     "data": {
      "text/plain": [
       "<Axes: >"
      ]
     },
     "execution_count": 4,
     "metadata": {},
     "output_type": "execute_result"
    }
   ],
   "source": [
    "# example of a signal for testing feature extraction.\n",
    "\n",
    "ex_signal = data[features].loc[2]\n",
    "print(type(ex_signal))  # Series\n",
    "print(ex_signal.shape)  # (178,)\n",
    "\n",
    "ex_signal.plot()"
   ]
  },
  {
   "cell_type": "code",
   "execution_count": 5,
   "metadata": {},
   "outputs": [
    {
     "name": "stdout",
     "output_type": "stream",
     "text": [
      "<class 'numpy.ndarray'>\n",
      "(33,)\n",
      "<class 'numpy.ndarray'>\n",
      "(33,)\n",
      "Is the PSD identical? True\n",
      "[0.       0.015625 0.03125  0.046875 0.0625  ]\n",
      "[ 3811.94293955 10356.35574327 14642.3711002  14988.33882263\n",
      " 16193.69692577  8743.34763352]\n"
     ]
    },
    {
     "data": {
      "text/plain": [
       "[<matplotlib.lines.Line2D at 0x7c5e85fec050>]"
      ]
     },
     "execution_count": 5,
     "metadata": {},
     "output_type": "execute_result"
    }
   ],
   "source": [
    "ex_frex, ex_PSD = welch64(ex_signal)\n",
    "print(type(ex_frex))  # ndarray\n",
    "print(ex_frex.shape)  # (33,)\n",
    "print(type(ex_PSD))  # ndarray\n",
    "print(ex_PSD.shape)  # (33,)\n",
    "\n",
    "ex_PSD2 = PSD_welch64(ex_signal)\n",
    "print('Is the PSD identical?', np.array_equal(ex_PSD, ex_PSD2))  # True\n",
    "\n",
    "print(ex_frex[0:5]) # [0, 1/64, 1/32., 3/64, 1/16 ]\n",
    "print(ex_PSD[0:6]) \n",
    "# [3800, 10400, 14600, 15000, 16200, 8700 ]\n",
    "\n",
    "plt.semilogy(ex_frex, ex_PSD)  # max at the frequency number 3: T == 64/3"
   ]
  },
  {
   "cell_type": "code",
   "execution_count": 6,
   "metadata": {},
   "outputs": [
    {
     "name": "stdout",
     "output_type": "stream",
     "text": [
      "<class 'numpy.ndarray'>\n",
      "(4,)\n",
      "[ 4 13 19 28]\n",
      "<class 'list'>\n",
      "[4, 13, 19, 28]\n",
      "<class 'numpy.ndarray'>\n",
      "[4.00000000e+00 1.30000000e+01 1.90000000e+01 2.80000000e+01\n",
      " 1.61936969e+04 1.29670915e+02 4.89831752e+01 7.03900495e+01]\n"
     ]
    }
   ],
   "source": [
    "ex_all_peak_indices = find_peaks(ex_PSD)[0]\n",
    "print(type( ex_all_peak_indices))  # ndarray\n",
    "print(ex_all_peak_indices.shape)   # (4,)\n",
    "print(ex_all_peak_indices)  # [4 13 19 28]\n",
    "\n",
    "ex_4_peak_indices = get_first_n(np.sort(ex_all_peak_indices))\n",
    "print(type(ex_4_peak_indices))  # list\n",
    "print(ex_4_peak_indices) # [4, 13, 19, 28]\n",
    "\n",
    "ex_ind_values = get_first_n_peaks(ex_PSD)\n",
    "print(type(ex_ind_values))  # list\n",
    "print(ex_ind_values) # [4. , 13. , 19. , 28. , 16200., 130., 49., 70.]\n",
    "# (the last 4 numbers above are approximations)"
   ]
  }
 ],
 "metadata": {
  "kernelspec": {
   "display_name": "ML_ts2",
   "language": "python",
   "name": "python3"
  },
  "language_info": {
   "codemirror_mode": {
    "name": "ipython",
    "version": 3
   },
   "file_extension": ".py",
   "mimetype": "text/x-python",
   "name": "python",
   "nbconvert_exporter": "python",
   "pygments_lexer": "ipython3",
   "version": "3.11.9"
  }
 },
 "nbformat": 4,
 "nbformat_minor": 2
}
